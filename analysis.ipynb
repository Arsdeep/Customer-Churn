{
 "cells": [
  {
   "cell_type": "markdown",
   "metadata": {},
   "source": [
    "# Customer Churn Prediction"
   ]
  },
  {
   "cell_type": "markdown",
   "metadata": {},
   "source": [
    "### Reading Data"
   ]
  },
  {
   "cell_type": "code",
   "execution_count": 46,
   "metadata": {},
   "outputs": [],
   "source": [
    "import pandas as pd\n",
    "import matplotlib.pyplot as plt\n",
    "import seaborn as sns"
   ]
  },
  {
   "cell_type": "code",
   "execution_count": null,
   "metadata": {},
   "outputs": [],
   "source": [
    "df = pd.read_csv(r\"data\\customer_churn_dataset-testing-master.csv\")\n",
    "df"
   ]
  },
  {
   "cell_type": "markdown",
   "metadata": {},
   "source": [
    "### Checking Null Values"
   ]
  },
  {
   "cell_type": "code",
   "execution_count": null,
   "metadata": {},
   "outputs": [],
   "source": [
    "print(\"Null Values -\")\n",
    "df.isnull().sum()"
   ]
  },
  {
   "cell_type": "markdown",
   "metadata": {},
   "source": [
    "## Analysis"
   ]
  },
  {
   "cell_type": "markdown",
   "metadata": {},
   "source": [
    "### 1. Bar chart of Churn by Subscription Type"
   ]
  },
  {
   "cell_type": "code",
   "execution_count": null,
   "metadata": {},
   "outputs": [],
   "source": [
    "\n",
    "plt.figure(figsize=(6,4))\n",
    "sns.countplot(x='Subscription Type', hue='Churn', data=df)\n",
    "plt.title('Churn by Subscription Type')\n",
    "plt.show()"
   ]
  },
  {
   "cell_type": "markdown",
   "metadata": {},
   "source": [
    "### 2. Histogram of Age Distribution"
   ]
  },
  {
   "cell_type": "code",
   "execution_count": null,
   "metadata": {},
   "outputs": [],
   "source": [
    "plt.figure(figsize=(6,4))\n",
    "sns.histplot(df['Age'], bins=10)\n",
    "plt.title('Age Distribution')\n",
    "plt.show()"
   ]
  },
  {
   "cell_type": "markdown",
   "metadata": {},
   "source": [
    "### 3. Bar chart of Churn by Gender"
   ]
  },
  {
   "cell_type": "code",
   "execution_count": null,
   "metadata": {},
   "outputs": [],
   "source": [
    "plt.figure(figsize=(6,4))\n",
    "sns.countplot(x='Gender', hue='Churn', data=df)\n",
    "plt.title('Churn by Gender')\n",
    "plt.show()\n"
   ]
  },
  {
   "cell_type": "markdown",
   "metadata": {},
   "source": [
    "### 4. Box plot of Usage Frequency by Gender"
   ]
  },
  {
   "cell_type": "code",
   "execution_count": null,
   "metadata": {},
   "outputs": [],
   "source": [
    "plt.figure(figsize=(6,4))\n",
    "sns.boxplot(x='Gender', y='Usage Frequency', data=df)\n",
    "plt.title('Usage Frequency by Gender')\n",
    "plt.show()"
   ]
  },
  {
   "cell_type": "markdown",
   "metadata": {},
   "source": [
    "### 5. Line chart of Contract Length vs. Payment Delay"
   ]
  },
  {
   "cell_type": "code",
   "execution_count": null,
   "metadata": {},
   "outputs": [],
   "source": [
    "plt.figure(figsize=(6,4))\n",
    "sns.lineplot(x='Contract Length', y='Payment Delay', data=df)\n",
    "plt.title('Contract Length vs. Payment Delay')\n",
    "plt.show()"
   ]
  },
  {
   "cell_type": "markdown",
   "metadata": {},
   "source": [
    "## Prediction"
   ]
  },
  {
   "cell_type": "code",
   "execution_count": null,
   "metadata": {},
   "outputs": [],
   "source": [
    "import pandas as pd\n",
    "from sklearn.model_selection import train_test_split\n",
    "from sklearn.preprocessing import StandardScaler\n",
    "from sklearn.impute import SimpleImputer\n",
    "from sklearn.linear_model import LogisticRegression\n",
    "from sklearn.tree import DecisionTreeClassifier\n",
    "from sklearn.ensemble import RandomForestClassifier\n",
    "from xgboost import XGBClassifier\n",
    "from lightgbm import LGBMClassifier\n",
    "from sklearn.metrics import classification_report, accuracy_score\n",
    "\n",
    "# 1. Load train and test datasets\n",
    "train_data = pd.read_csv('data/customer_churn_dataset-training-master.csv')\n",
    "test_data = pd.read_csv('data/customer_churn_dataset-testing-master.csv')\n",
    "\n",
    "# 2. Feature Engineering\n",
    "def feature_engineering(data):\n",
    "    # One-hot encoding categorical columns\n",
    "    data = pd.get_dummies(data, columns=['Gender', 'Subscription Type', 'Contract Length'], drop_first=True)\n",
    "    # Create new feature 'Spend_per_Tenure'\n",
    "    data['Spend_per_Tenure'] = data['Total Spend'] / data['Tenure']\n",
    "    # Drop unnecessary columns\n",
    "    data = data.drop(columns=['CustomerID', 'Last Interaction'])\n",
    "    return data\n",
    "\n",
    "# Apply feature engineering to both train and test datasets\n",
    "train_data = feature_engineering(train_data)\n",
    "test_data = feature_engineering(test_data)\n",
    "\n",
    "# 3. Check for NaN values in the target variable\n",
    "if train_data['Churn'].isnull().any():\n",
    "    print(\"NaN values found in y_train (Churn). Dropping rows...\")\n",
    "    train_data = train_data.dropna(subset=['Churn'])\n",
    "\n",
    "if test_data['Churn'].isnull().any():\n",
    "    print(\"NaN values found in y_test (Churn). Dropping rows...\")\n",
    "    test_data = test_data.dropna(subset=['Churn'])\n",
    "\n",
    "# 4. Split features and target\n",
    "X_train = train_data.drop(columns=['Churn'])  # Features from train data\n",
    "y_train = train_data['Churn']                  # Target from train data\n",
    "\n",
    "X_test = test_data.drop(columns=['Churn'])     # Features from test data\n",
    "y_test = test_data['Churn']                     # Target from test data\n",
    "\n",
    "# 5. Handle missing values (imputation) in features\n",
    "imputer = SimpleImputer(strategy='mean')  # Impute missing values with the mean\n",
    "X_train = imputer.fit_transform(X_train)  # Apply imputation to training data\n",
    "X_test = imputer.transform(X_test)        # Apply same imputation to test data\n",
    "\n",
    "# Optional: Standardize the features (scaling can help some models perform better)\n",
    "scaler = StandardScaler()\n",
    "X_train = scaler.fit_transform(X_train)  # Fit scaler on train data\n",
    "X_test = scaler.transform(X_test)        # Use the same scaler on test data\n",
    "\n",
    "# 6. Initialize models\n",
    "log_reg = LogisticRegression()\n",
    "decision_tree = DecisionTreeClassifier()\n",
    "random_forest = RandomForestClassifier()\n",
    "xgboost = XGBClassifier(use_label_encoder=False, eval_metric='logloss')\n",
    "lightgbm = LGBMClassifier()\n",
    "\n",
    "# 7. Train and evaluate models\n",
    "models = {\n",
    "    'Logistic Regression': log_reg,\n",
    "    'Decision Tree': decision_tree,\n",
    "    'Random Forest': random_forest,\n",
    "    'XGBoost': xgboost,\n",
    "    'LightGBM': lightgbm\n",
    "}\n",
    "\n",
    "# Dictionary to store model performances\n",
    "model_performance = {}\n",
    "\n",
    "for name, model in models.items():\n",
    "    # Train the model on training data\n",
    "    model.fit(X_train, y_train)\n",
    "    \n",
    "    # Predict on the test data\n",
    "    y_pred = model.predict(X_test)\n",
    "    \n",
    "    # Evaluate performance\n",
    "    accuracy = accuracy_score(y_test, y_pred)\n",
    "    print(f\"{name} Accuracy: {accuracy:.4f}\")\n",
    "    print(f\"{name} Classification Report:\\n{classification_report(y_test, y_pred)}\\n\")\n",
    "    \n",
    "    # Store accuracy for comparison\n",
    "    model_performance[name] = accuracy\n",
    "\n",
    "# 8. Compare models and display the best one\n",
    "best_model = max(model_performance, key=model_performance.get)\n",
    "print(f\"The best model is: {best_model} with accuracy of {model_performance[best_model]:.4f}\")"
   ]
  }
 ],
 "metadata": {
  "kernelspec": {
   "display_name": ".venv",
   "language": "python",
   "name": "python3"
  },
  "language_info": {
   "codemirror_mode": {
    "name": "ipython",
    "version": 3
   },
   "file_extension": ".py",
   "mimetype": "text/x-python",
   "name": "python",
   "nbconvert_exporter": "python",
   "pygments_lexer": "ipython3",
   "version": "3.12.3"
  }
 },
 "nbformat": 4,
 "nbformat_minor": 2
}
